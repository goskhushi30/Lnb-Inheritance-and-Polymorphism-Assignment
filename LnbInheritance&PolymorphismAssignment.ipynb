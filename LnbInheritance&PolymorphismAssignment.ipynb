{
 "cells": [
  {
   "cell_type": "markdown",
   "id": "ad26a714-e181-4c79-85a2-549b5a760dbe",
   "metadata": {},
   "source": [
    "ASSIGNMENT 2 - INHERITANCE AND POLYMORPHISM"
   ]
  },
  {
   "cell_type": "markdown",
   "id": "d8559f21-6dd1-48bc-bada-0cd2ab415f34",
   "metadata": {},
   "source": [
    "QUES1 Given the following class Employee, complete the calculate_salary method to return \n",
    "the salary of the employee based on their hourly rate and hours worked. Additionally, \n",
    "ensure that the Employee class cannot be instantiated directly, and subclasses must \n",
    "implement the calculate_salary method"
   ]
  },
  {
   "cell_type": "code",
   "execution_count": 13,
   "id": "2106236a-d26c-4c57-ac28-77f9e5d16d97",
   "metadata": {},
   "outputs": [
    {
     "name": "stdout",
     "output_type": "stream",
     "text": [
      "Salary of Khushi is  25000\n",
      "Salary of XYZ is  12500\n"
     ]
    }
   ],
   "source": [
    "from abc import ABC,abstractmethod\n",
    "\n",
    "class Employee(ABC):\n",
    "    def __init__(self,name,hourly_rate,worked_hour):\n",
    "        self.name=name\n",
    "        self.hourly_rate=hourly_rate\n",
    "        self.worked_hour=worked_hour\n",
    "\n",
    "    @abstractmethod\n",
    "    def calculate_salary(self):\n",
    "        pass\n",
    "\n",
    "class FullTimeEmployee(Employee):\n",
    "    def __init__(self,name,hourly_rate,worked_hour):\n",
    "        super().__init__(name,hourly_rate,worked_hour)\n",
    "    def calculate_salary(self):\n",
    "        print(f\"Salary of {self.name} is  {self.hourly_rate*self.worked_hour}\")\n",
    "\n",
    "F=FullTimeEmployee(\"Khushi\",100,250)\n",
    "F.calculate_salary()\n",
    "\n",
    "G=FullTimeEmployee(\"XYZ\",50,250)\n",
    "G.calculate_salary()\n",
    "        \n",
    "    "
   ]
  },
  {
   "cell_type": "markdown",
   "id": "27d5bb96-dfb6-442d-a6f0-54f1b4c9ecd1",
   "metadata": {},
   "source": [
    "QUES2 Consider the following classes Shape and Color which represent geometric shapes \r\n",
    "and colors, respectively. Implement a new class ColoredShape that inherits from both \r\n",
    "Shape and Color to represent colored shapes. Ensure that the ColoredShape class is \r\n",
    "correctly instantiated with a shape and a color.\r"
   ]
  },
  {
   "cell_type": "code",
   "execution_count": 21,
   "id": "56ae9167-43fd-4a0b-a7e0-730c369701f9",
   "metadata": {},
   "outputs": [
    {
     "name": "stdout",
     "output_type": "stream",
     "text": [
      "Shape is Rectangle\n",
      "Color of shape is Pink\n"
     ]
    }
   ],
   "source": [
    "class Shape:\n",
    "    def __init__(self,name):\n",
    "        self.name=name\n",
    "\n",
    "class Color:\n",
    "    def __init__(self,color):\n",
    "        self.color=color\n",
    "\n",
    "class Coloredshape(Shape,Color):\n",
    "    def __init__(self,name,color):\n",
    "        Shape.__init__(self,name)\n",
    "        Color.__init__(self,color)\n",
    "\n",
    "CS=Coloredshape(\"Rectangle\",\"Pink\")\n",
    "print(\"Shape is\",CS.name)\n",
    "print(\"Color of shape is\",CS.color)"
   ]
  },
  {
   "cell_type": "markdown",
   "id": "6b2fe63a-3044-4ed6-8f33-bafa8243a28e",
   "metadata": {},
   "source": [
    "QUES3 Given the following class BankAccount, complete the withdraw method to deduct \r\n",
    "the specified amount from the account balance. Additionally, ensure that th BankAccount class raises a NotImplementedError if the withdraw method is \r\n",
    "called directly, and subclasses must implement i                                                                                                                                                                                                                    .e"
   ]
  },
  {
   "cell_type": "code",
   "execution_count": 25,
   "id": "0d91dd85-e1de-472e-a70b-2d6a11de6e74",
   "metadata": {},
   "outputs": [
    {
     "name": "stdout",
     "output_type": "stream",
     "text": [
      "Available Balance is: 900\n"
     ]
    }
   ],
   "source": [
    "from abc import ABC,abstractmethod\n",
    "\n",
    "class BankAccount(ABC):\n",
    "    def __init__(self,balance):\n",
    "        self.balance=balance\n",
    "        \n",
    "    @abstractmethod\n",
    "    def withdraw(self,amount):\n",
    "        raise NotImplementedError()\n",
    "    \n",
    "\n",
    "class SavingsAccount(BankAccount):\n",
    "    def __init__(self,balance,amount):\n",
    "        super().__init__(balance)\n",
    "        self.amount=amount\n",
    "    def withdraw(self):\n",
    "        self.balance-=self.amount\n",
    "        print(\"Available Balance is:\",self.balance)\n",
    "\n",
    "S=SavingsAccount(1000,100)\n",
    "S.withdraw()"
   ]
  },
  {
   "cell_type": "markdown",
   "id": "afd5f421-6f9e-4979-b17d-4c04788d144c",
   "metadata": {},
   "source": [
    "QUES4 Consider the following classes Document and Printer which represent documents \n",
    "and printers, respectively. Implement a new class PrintedDocument that inherits \n",
    "from both Document and Printer to represent documents that are ready for printing. \n",
    "Ensure that the PrintedDocument class correctly initializes with a document and a \n",
    "printer."
   ]
  },
  {
   "cell_type": "code",
   "execution_count": 28,
   "id": "f9921cac-6405-4d92-a1d0-66a23afa3ca9",
   "metadata": {},
   "outputs": [
    {
     "name": "stdout",
     "output_type": "stream",
     "text": [
      "abc\n",
      "xyz\n"
     ]
    }
   ],
   "source": [
    "class Document:\n",
    "    def __init__(self,content):\n",
    "        self.content=content\n",
    "\n",
    "class Printer:\n",
    "    def __init__(self,brand):\n",
    "        self.brand=brand\n",
    "\n",
    "class PrintedDocument(Document,Printer):\n",
    "    def __init__(self,content,brand):\n",
    "        Document.__init__(self,content)\n",
    "        Printer.__init__(self,brand)\n",
    "\n",
    "pd=PrintedDocument(\"abc\",\"xyz\")\n",
    "print(pd.content)\n",
    "print(pd.brand)"
   ]
  },
  {
   "cell_type": "markdown",
   "id": "9fe34b10-98fc-40c0-a3bd-89eb2b494c61",
   "metadata": {},
   "source": [
    "QUES5 Given the following class Shape, complete the draw method to print a generic \n",
    "message indicating the shape is being drawn. Additionally, ensure that the Shape class \n",
    "raises a NotImplementedError if the draw method is called directly, and subclasses \n",
    "must implement it"
   ]
  },
  {
   "cell_type": "code",
   "execution_count": 31,
   "id": "7af3f2c3-dd56-4203-9811-f96be69c1842",
   "metadata": {},
   "outputs": [
    {
     "name": "stdout",
     "output_type": "stream",
     "text": [
      "The circle shape is being drawn\n"
     ]
    }
   ],
   "source": [
    "from abc import ABC,abstractmethod\n",
    "\n",
    "class Shape(ABC):\n",
    "    def __init__(self,name):\n",
    "        self.name=name\n",
    "        \n",
    "    @abstractmethod\n",
    "    def draw(self):\n",
    "        raise NotImplementedError()\n",
    "    \n",
    "\n",
    "class Circle(Shape):\n",
    "    def __init__(self,name):\n",
    "        super().__init__(name)\n",
    "        \n",
    "    def draw(self):\n",
    "        print(f\"The {self.name} shape is being drawn\")\n",
    "\n",
    "c=Circle(\"circle\")\n",
    "c.draw()"
   ]
  }
 ],
 "metadata": {
  "kernelspec": {
   "display_name": "Python 3 (ipykernel)",
   "language": "python",
   "name": "python3"
  },
  "language_info": {
   "codemirror_mode": {
    "name": "ipython",
    "version": 3
   },
   "file_extension": ".py",
   "mimetype": "text/x-python",
   "name": "python",
   "nbconvert_exporter": "python",
   "pygments_lexer": "ipython3",
   "version": "3.12.1"
  }
 },
 "nbformat": 4,
 "nbformat_minor": 5
}
